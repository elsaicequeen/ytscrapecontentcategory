{
  "nbformat": 4,
  "nbformat_minor": 0,
  "metadata": {
    "colab": {
      "name": "anishmajumdar_precily.ipynb",
      "version": "0.3.2",
      "provenance": []
    },
    "kernelspec": {
      "name": "python3",
      "display_name": "Python 3"
    }
  },
  "cells": [
    {
      "cell_type": "code",
      "metadata": {
        "id": "aEnpFO7wg7JZ",
        "colab_type": "code",
        "colab": {}
      },
      "source": [
        ""
      ],
      "execution_count": 0,
      "outputs": []
    },
    {
      "cell_type": "code",
      "metadata": {
        "id": "tn6zdJ3HhEDD",
        "colab_type": "code",
        "colab": {
          "base_uri": "https://localhost:8080/",
          "height": 34
        },
        "outputId": "3ba10e26-262c-40f5-e5cf-634901076357"
      },
      "source": [
        " # Run this cell to mount your Google Drive.\n",
        "from google.colab import drive\n",
        "drive.mount('/content/drive')"
      ],
      "execution_count": 1,
      "outputs": [
        {
          "output_type": "stream",
          "text": [
            "Mounted at /content/drive\n"
          ],
          "name": "stdout"
        }
      ]
    },
    {
      "cell_type": "code",
      "metadata": {
        "id": "1RFIPoEMhotF",
        "colab_type": "code",
        "colab": {}
      },
      "source": [
        "\n",
        "import numpy as np # linear algebra\n",
        "import pandas as pd # data processing, CSV file I/O (e.g. pd.read_csv)\n",
        "# Input data files are available in the \"../input/\" directory.\n",
        "import os\n",
        "import matplotlib.pyplot as plt#visualization\n",
        "from PIL import  Image\n",
        "%matplotlib inline\n",
        "import pandas as pd\n",
        "import seaborn as sns#visualization\n",
        "import itertools\n",
        "import warnings\n",
        "warnings.filterwarnings(\"ignore\")\n",
        "import io\n",
        "from pylab import rcParams\n",
        "from sklearn.preprocessing import LabelEncoder\n",
        "from sklearn.preprocessing import OneHotEncoder\n",
        "from sklearn.model_selection import train_test_split\n",
        "from sklearn.linear_model import LogisticRegression\n",
        "from sklearn.metrics import confusion_matrix,accuracy_score,classification_report\n",
        "from sklearn.metrics import roc_auc_score,roc_curve,scorer\n",
        "from sklearn.metrics import f1_score\n",
        "from sklearn.feature_extraction.text import TfidfVectorizer\n",
        "from sklearn.metrics import precision_score,recall_score\n",
        "from sklearn.tree import DecisionTreeClassifier\n",
        "from sklearn.neighbors import KNeighborsClassifier\n",
        "from xgboost import XGBClassifier\n",
        "from sklearn.ensemble import RandomForestClassifier"
      ],
      "execution_count": 0,
      "outputs": []
    },
    {
      "cell_type": "code",
      "metadata": {
        "id": "pX0tpzIYh0_S",
        "colab_type": "code",
        "colab": {}
      },
      "source": [
        "df=pd.read_csv(\"/content/scrapeyt.csv\")"
      ],
      "execution_count": 0,
      "outputs": []
    },
    {
      "cell_type": "code",
      "metadata": {
        "id": "fUgYj1zViOpf",
        "colab_type": "code",
        "colab": {
          "base_uri": "https://localhost:8080/",
          "height": 289
        },
        "outputId": "a7e05b65-a649-4474-deb0-97b11f38f5c0"
      },
      "source": [
        "df.head()"
      ],
      "execution_count": 6,
      "outputs": [
        {
          "output_type": "execute_result",
          "data": {
            "text/html": [
              "<div>\n",
              "<style scoped>\n",
              "    .dataframe tbody tr th:only-of-type {\n",
              "        vertical-align: middle;\n",
              "    }\n",
              "\n",
              "    .dataframe tbody tr th {\n",
              "        vertical-align: top;\n",
              "    }\n",
              "\n",
              "    .dataframe thead th {\n",
              "        text-align: right;\n",
              "    }\n",
              "</style>\n",
              "<table border=\"1\" class=\"dataframe\">\n",
              "  <thead>\n",
              "    <tr style=\"text-align: right;\">\n",
              "      <th></th>\n",
              "      <th>Video Id</th>\n",
              "      <th>Title</th>\n",
              "      <th>Description</th>\n",
              "      <th>Category</th>\n",
              "    </tr>\n",
              "  </thead>\n",
              "  <tbody>\n",
              "    <tr>\n",
              "      <th>0</th>\n",
              "      <td>\\n                Top 5 Amazing Unique Gadgets...</td>\n",
              "      <td>NaN</td>\n",
              "      <td>Top 5 Amazing Unique Gadgets You Must Watch No...</td>\n",
              "      <td>Science and Technology</td>\n",
              "    </tr>\n",
              "    <tr>\n",
              "      <th>1</th>\n",
              "      <td>/watch?v=9AMPsDXGAxY</td>\n",
              "      <td>\\n                VERY SMART TECHNOLOGIES THAT...</td>\n",
              "      <td>For copyright matters please contact us at: co...</td>\n",
              "      <td>Science and Technology</td>\n",
              "    </tr>\n",
              "    <tr>\n",
              "      <th>2</th>\n",
              "      <td>/watch?v=JhHMJCUmq28</td>\n",
              "      <td>\\n                Quantum Computers Explained ...</td>\n",
              "      <td>Where are the limits of human technology? And ...</td>\n",
              "      <td>Science and Technology</td>\n",
              "    </tr>\n",
              "    <tr>\n",
              "      <th>3</th>\n",
              "      <td>/watch?v=SSo_EIwHSd4&amp;t=115s</td>\n",
              "      <td>\\n                How does a blockchain work -...</td>\n",
              "      <td>What is a blockchain and how do they work? I'l...</td>\n",
              "      <td>Science and Technology</td>\n",
              "    </tr>\n",
              "    <tr>\n",
              "      <th>4</th>\n",
              "      <td>/watch?v=-y5Z2fmnp-o</td>\n",
              "      <td>\\n                Top 10 Technologies To Learn...</td>\n",
              "      <td>In this Intellipaat's top 10 technologies to l...</td>\n",
              "      <td>Science and Technology</td>\n",
              "    </tr>\n",
              "  </tbody>\n",
              "</table>\n",
              "</div>"
            ],
            "text/plain": [
              "                                            Video Id  ...                Category\n",
              "0  \\n                Top 5 Amazing Unique Gadgets...  ...  Science and Technology\n",
              "1                               /watch?v=9AMPsDXGAxY  ...  Science and Technology\n",
              "2                               /watch?v=JhHMJCUmq28  ...  Science and Technology\n",
              "3                        /watch?v=SSo_EIwHSd4&t=115s  ...  Science and Technology\n",
              "4                               /watch?v=-y5Z2fmnp-o  ...  Science and Technology\n",
              "\n",
              "[5 rows x 4 columns]"
            ]
          },
          "metadata": {
            "tags": []
          },
          "execution_count": 6
        }
      ]
    },
    {
      "cell_type": "code",
      "metadata": {
        "id": "JaeeIYSJiP5N",
        "colab_type": "code",
        "colab": {
          "base_uri": "https://localhost:8080/",
          "height": 34
        },
        "outputId": "6adaf244-7c9c-49bd-f2c9-c2a661b28699"
      },
      "source": [
        "df.shape"
      ],
      "execution_count": 8,
      "outputs": [
        {
          "output_type": "execute_result",
          "data": {
            "text/plain": [
              "(7245, 4)"
            ]
          },
          "metadata": {
            "tags": []
          },
          "execution_count": 8
        }
      ]
    },
    {
      "cell_type": "code",
      "metadata": {
        "id": "F2hiJBb6kGnI",
        "colab_type": "code",
        "colab": {
          "base_uri": "https://localhost:8080/",
          "height": 374
        },
        "outputId": "d057f466-ac9f-4145-8f51-a19c9b809294"
      },
      "source": [
        "print(df.shape)\n",
        "print(df.describe())\n",
        "print(df.head())\n",
        "print(df.isnull().sum())"
      ],
      "execution_count": 11,
      "outputs": [
        {
          "output_type": "stream",
          "text": [
            "(7245, 4)\n",
            "                    Video Id  ... Category\n",
            "count                   7244  ...     7245\n",
            "unique                  6978  ...        6\n",
            "top     /watch?v=tNkZsRW7h2c  ...   Travel\n",
            "freq                       4  ...     1442\n",
            "\n",
            "[4 rows x 4 columns]\n",
            "                                            Video Id  ...                Category\n",
            "0  \\n                Top 5 Amazing Unique Gadgets...  ...  Science and Technology\n",
            "1                               /watch?v=9AMPsDXGAxY  ...  Science and Technology\n",
            "2                               /watch?v=JhHMJCUmq28  ...  Science and Technology\n",
            "3                        /watch?v=SSo_EIwHSd4&t=115s  ...  Science and Technology\n",
            "4                               /watch?v=-y5Z2fmnp-o  ...  Science and Technology\n",
            "\n",
            "[5 rows x 4 columns]\n",
            "Video Id         1\n",
            "Title            2\n",
            "Description    252\n",
            "Category         0\n",
            "dtype: int64\n"
          ],
          "name": "stdout"
        }
      ]
    },
    {
      "cell_type": "code",
      "metadata": {
        "id": "MiPbic9Djxq2",
        "colab_type": "code",
        "colab": {}
      },
      "source": [
        "df=df.dropna(axis=0)"
      ],
      "execution_count": 0,
      "outputs": []
    },
    {
      "cell_type": "code",
      "metadata": {
        "id": "oM7ldnchj4jp",
        "colab_type": "code",
        "colab": {
          "base_uri": "https://localhost:8080/",
          "height": 34
        },
        "outputId": "b5f47f5b-3e4e-4832-c260-14b3b838f32a"
      },
      "source": [
        "df.shape"
      ],
      "execution_count": 14,
      "outputs": [
        {
          "output_type": "execute_result",
          "data": {
            "text/plain": [
              "(6992, 4)"
            ]
          },
          "metadata": {
            "tags": []
          },
          "execution_count": 14
        }
      ]
    },
    {
      "cell_type": "code",
      "metadata": {
        "id": "jy38vGVBoLZ-",
        "colab_type": "code",
        "colab": {}
      },
      "source": [
        ""
      ],
      "execution_count": 0,
      "outputs": []
    },
    {
      "cell_type": "code",
      "metadata": {
        "id": "UzDbtcGsntEe",
        "colab_type": "code",
        "colab": {}
      },
      "source": [
        "# Divide data into training and validation subsets to prevent overfitting \n",
        "X_train_full, X_valid_full, y_train, y_valid = train_test_split(df, df.Category, train_size=0.8, test_size=0.2,\n",
        "                                                                random_state=0)"
      ],
      "execution_count": 0,
      "outputs": []
    },
    {
      "cell_type": "code",
      "metadata": {
        "id": "rR3pLJEOns1S",
        "colab_type": "code",
        "colab": {}
      },
      "source": [
        "train_feat=[str(i) for i in X_train_full[\"Description\"]]\n",
        "valid_feat=[str(i) for i in X_valid_full[\"Description\"]]\n"
      ],
      "execution_count": 0,
      "outputs": []
    },
    {
      "cell_type": "code",
      "metadata": {
        "id": "fuAPbh2wkanw",
        "colab_type": "code",
        "colab": {}
      },
      "source": [
        "tf_feat= TfidfVectorizer(analyzer='word',stop_words=\"english\",\n",
        "                         ngram_range=(1,2))"
      ],
      "execution_count": 0,
      "outputs": []
    },
    {
      "cell_type": "code",
      "metadata": {
        "id": "5lalp9O4mMJL",
        "colab_type": "code",
        "colab": {}
      },
      "source": [
        ""
      ],
      "execution_count": 0,
      "outputs": []
    },
    {
      "cell_type": "code",
      "metadata": {
        "id": "Y4ugGnIrmwHw",
        "colab_type": "code",
        "colab": {}
      },
      "source": [
        ""
      ],
      "execution_count": 0,
      "outputs": []
    },
    {
      "cell_type": "code",
      "metadata": {
        "id": "hehFUZAilOGo",
        "colab_type": "code",
        "colab": {}
      },
      "source": [
        "idf_feat=tf_feat.fit(train_feat)\n",
        "train_mat=idf_feat.transform(train_feat)\n",
        "valid_mat=idf_feat.transform(valid_feat)"
      ],
      "execution_count": 0,
      "outputs": []
    },
    {
      "cell_type": "code",
      "metadata": {
        "id": "zDxEL3Tslvtb",
        "colab_type": "code",
        "colab": {
          "base_uri": "https://localhost:8080/",
          "height": 51
        },
        "outputId": "cac63b23-af25-44c5-f586-2713fe2ab497"
      },
      "source": [
        "train_mat"
      ],
      "execution_count": 92,
      "outputs": [
        {
          "output_type": "execute_result",
          "data": {
            "text/plain": [
              "<5593x61950 sparse matrix of type '<class 'numpy.float64'>'\n",
              "\twith 121272 stored elements in Compressed Sparse Row format>"
            ]
          },
          "metadata": {
            "tags": []
          },
          "execution_count": 92
        }
      ]
    },
    {
      "cell_type": "code",
      "metadata": {
        "id": "GcE7qd53lPlg",
        "colab_type": "code",
        "colab": {
          "base_uri": "https://localhost:8080/",
          "height": 51
        },
        "outputId": "bbc39384-30a1-48a5-869a-a2caadfdd2f5"
      },
      "source": [
        "valid_mat"
      ],
      "execution_count": 93,
      "outputs": [
        {
          "output_type": "execute_result",
          "data": {
            "text/plain": [
              "<1399x61950 sparse matrix of type '<class 'numpy.float64'>'\n",
              "\twith 17818 stored elements in Compressed Sparse Row format>"
            ]
          },
          "metadata": {
            "tags": []
          },
          "execution_count": 93
        }
      ]
    },
    {
      "cell_type": "code",
      "metadata": {
        "id": "YonAnBctpwjq",
        "colab_type": "code",
        "colab": {}
      },
      "source": [
        "clf=LogisticRegression()\n",
        "clf.fit(train_mat,y_train)\n",
        "preds=clf.predict(valid_mat)\n",
        "\n"
      ],
      "execution_count": 0,
      "outputs": []
    },
    {
      "cell_type": "code",
      "metadata": {
        "id": "md4AWyzZsKGF",
        "colab_type": "code",
        "colab": {
          "base_uri": "https://localhost:8080/",
          "height": 238
        },
        "outputId": "aaf48c76-c5e7-43ef-8bf4-957114ef7320"
      },
      "source": [
        "print (classification_report(y_true=y_valid,y_pred=preds))"
      ],
      "execution_count": 95,
      "outputs": [
        {
          "output_type": "stream",
          "text": [
            "                        precision    recall  f1-score   support\n",
            "\n",
            "         Art and Music       0.79      0.74      0.76       231\n",
            "                  Food       0.84      0.80      0.82       163\n",
            "               History       0.85      0.65      0.73       205\n",
            "         Manufacturing       0.89      0.78      0.83       252\n",
            "Science and Technology       0.68      0.82      0.75       266\n",
            "                Travel       0.70      0.83      0.76       282\n",
            "\n",
            "              accuracy                           0.77      1399\n",
            "             macro avg       0.79      0.77      0.78      1399\n",
            "          weighted avg       0.78      0.77      0.77      1399\n",
            "\n"
          ],
          "name": "stdout"
        }
      ]
    },
    {
      "cell_type": "code",
      "metadata": {
        "id": "tDmjbA3wtU0o",
        "colab_type": "code",
        "colab": {
          "base_uri": "https://localhost:8080/",
          "height": 238
        },
        "outputId": "d708e98a-b611-4afd-bfee-5c5a879fdbd6"
      },
      "source": [
        "clf_=XGBClassifier(n_estimators=300,max_depth=7,learning_rate=0.02)\n",
        "clf_.fit(train_mat,y_train)\n",
        "preds=clf_.predict(valid_mat)\n",
        "\n",
        "print (classification_report(y_true=y_valid,y_pred=preds))"
      ],
      "execution_count": 89,
      "outputs": [
        {
          "output_type": "stream",
          "text": [
            "                        precision    recall  f1-score   support\n",
            "\n",
            "         Art and Music       0.85      0.67      0.75       231\n",
            "                  Food       0.85      0.74      0.79       163\n",
            "               History       0.81      0.61      0.70       205\n",
            "         Manufacturing       0.93      0.66      0.77       252\n",
            "Science and Technology       0.46      0.89      0.60       266\n",
            "                Travel       0.83      0.66      0.74       282\n",
            "\n",
            "              accuracy                           0.71      1399\n",
            "             macro avg       0.79      0.71      0.72      1399\n",
            "          weighted avg       0.78      0.71      0.72      1399\n",
            "\n"
          ],
          "name": "stdout"
        }
      ]
    },
    {
      "cell_type": "code",
      "metadata": {
        "id": "SeepN7olvD8q",
        "colab_type": "code",
        "colab": {}
      },
      "source": [
        "\n",
        "from keras.preprocessing.text import Tokenizer\n",
        "from keras.preprocessing.sequence import pad_sequences\n",
        "from keras.layers import Dense, Input, LSTM, Embedding, Dropout, Activation\n",
        "from keras.layers import Bidirectional, GlobalMaxPool1D\n",
        "from keras.models import Model\n",
        "from keras import Sequential\n",
        "from keras import initializers, regularizers, constraints, optimizers, layers"
      ],
      "execution_count": 0,
      "outputs": []
    },
    {
      "cell_type": "code",
      "metadata": {
        "id": "YdMXqVUj1txx",
        "colab_type": "code",
        "colab": {}
      },
      "source": [
        "train_mat=train_mat.toarray()[:,:,None]\n",
        "valid_mat=valid_mat.toarray()[:,:,None]\n"
      ],
      "execution_count": 0,
      "outputs": []
    },
    {
      "cell_type": "code",
      "metadata": {
        "id": "doZ7GpyQ74lD",
        "colab_type": "code",
        "colab": {}
      },
      "source": [
        "import tensorflow.keras.backend as K"
      ],
      "execution_count": 0,
      "outputs": []
    },
    {
      "cell_type": "code",
      "metadata": {
        "id": "rJC2HfWKxNyj",
        "colab_type": "code",
        "colab": {}
      },
      "source": [
        "#need embedding tfidf doesnt work with keras\n",
        "train_mat=K.variable(train_mat)\n",
        "x = Bidirectional(LSTM(50, return_sequences=True, dropout=0.1, recurrent_dropout=0.1))(train_mat)\n",
        "x = GlobalMaxPool1D()(x)\n",
        "x = Dense(50, activation=\"relu\")(x)\n",
        "x = Dropout(0.1)(x)\n",
        "x = Dense(6, activation=\"sigmoid\")(x)\n",
        "model = Model(inputs=train_mat, outputs=x)\n",
        "model.compile(loss='binary_crossentropy', optimizer='adam', metrics=['accuracy'])\n",
        "print(model.summary())\n",
        "\n",
        "model.fit(train_mat, y_train, epochs=1, verbose=1)"
      ],
      "execution_count": 0,
      "outputs": []
    },
    {
      "cell_type": "code",
      "metadata": {
        "id": "caEUk3kqxlJM",
        "colab_type": "code",
        "colab": {}
      },
      "source": [
        ""
      ],
      "execution_count": 0,
      "outputs": []
    }
  ]
}